{
 "cells": [
  {
   "cell_type": "code",
   "execution_count": 1,
   "metadata": {},
   "outputs": [
    {
     "name": "stdout",
     "output_type": "stream",
     "text": [
      "CUDA available: True\n",
      "\n",
      "Current GPU device: NVIDIA RTX A6000\n",
      "Device properties:\n",
      "- Total memory: 44.55 GB\n",
      "- GPU compute capability: 8.6\n",
      "\n",
      "Memory stats:\n",
      "- Allocated: 0.00 MB\n",
      "- Cached: 0.00 MB\n"
     ]
    }
   ],
   "source": [
    "import torch\n",
    "\n",
    "# Check if CUDA (GPU) is available\n",
    "print(f\"CUDA available: {torch.cuda.is_available()}\")\n",
    "\n",
    "if torch.cuda.is_available():\n",
    "    # Get the current GPU device\n",
    "    current_device = torch.cuda.current_device()\n",
    "    \n",
    "    # Print device properties\n",
    "    print(f\"\\nCurrent GPU device: {torch.cuda.get_device_name(current_device)}\")\n",
    "    print(f\"Device properties:\")\n",
    "    print(f\"- Total memory: {torch.cuda.get_device_properties(current_device).total_memory / 1024**3:.2f} GB\")\n",
    "    print(f\"- GPU compute capability: {torch.cuda.get_device_properties(current_device).major}.{torch.cuda.get_device_properties(current_device).minor}\")\n",
    "    \n",
    "    # Get memory statistics\n",
    "    print(f\"\\nMemory stats:\")\n",
    "    print(f\"- Allocated: {torch.cuda.memory_allocated() / 1024**2:.2f} MB\")\n",
    "    print(f\"- Cached: {torch.cuda.memory_reserved() / 1024**2:.2f} MB\")\n"
   ]
  }
 ],
 "metadata": {
  "kernelspec": {
   "display_name": "base",
   "language": "python",
   "name": "python3"
  },
  "language_info": {
   "codemirror_mode": {
    "name": "ipython",
    "version": 3
   },
   "file_extension": ".py",
   "mimetype": "text/x-python",
   "name": "python",
   "nbconvert_exporter": "python",
   "pygments_lexer": "ipython3",
   "version": "3.11.9"
  }
 },
 "nbformat": 4,
 "nbformat_minor": 2
}
