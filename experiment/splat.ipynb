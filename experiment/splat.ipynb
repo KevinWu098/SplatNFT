{
 "cells": [
  {
   "cell_type": "code",
   "execution_count": 4,
   "metadata": {},
   "outputs": [
    {
     "name": "stdout",
     "output_type": "stream",
     "text": [
      "Extracted 48 frames\n"
     ]
    }
   ],
   "source": [
    "import cv2\n",
    "import os\n",
    "\n",
    "def extract_frames(video_path, output_dir=\"data/input\"):\n",
    "    # Create output directory if it doesn't exist\n",
    "    if not os.path.exists(output_dir):\n",
    "        os.makedirs(output_dir)\n",
    "    \n",
    "    # Open the video file\n",
    "    video = cv2.VideoCapture(video_path)\n",
    "    \n",
    "    # Get video properties\n",
    "    fps = video.get(cv2.CAP_PROP_FPS)\n",
    "    frame_interval = int(fps/2)  # For 2 frames per second\n",
    "    frame_count = 0\n",
    "    saved_count = 0\n",
    "    \n",
    "    while True:\n",
    "        success, frame = video.read()\n",
    "        if not success:\n",
    "            break\n",
    "            \n",
    "        # Save every nth frame based on frame_interval\n",
    "        if frame_count % frame_interval == 0:\n",
    "            frame_path = os.path.join(output_dir, f'frame_{saved_count:04d}.png')\n",
    "            cv2.imwrite(frame_path, frame)\n",
    "            saved_count += 1\n",
    "            \n",
    "        frame_count += 1\n",
    "    \n",
    "    video.release()\n",
    "    return saved_count\n",
    "\n",
    "video_path = \"jas.mp4\"\n",
    "output_dir = \"data/input\"\n",
    "num_frames = extract_frames(video_path, output_dir)\n",
    "print(f\"Extracted {num_frames} frames\")"
   ]
  }
 ],
 "metadata": {
  "kernelspec": {
   "display_name": "env",
   "language": "python",
   "name": "python3"
  },
  "language_info": {
   "codemirror_mode": {
    "name": "ipython",
    "version": 3
   },
   "file_extension": ".py",
   "mimetype": "text/x-python",
   "name": "python",
   "nbconvert_exporter": "python",
   "pygments_lexer": "ipython3",
   "version": "3.11.9"
  }
 },
 "nbformat": 4,
 "nbformat_minor": 2
}
